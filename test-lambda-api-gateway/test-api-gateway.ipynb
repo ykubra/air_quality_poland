{
 "cells": [
  {
   "cell_type": "code",
   "execution_count": 2,
   "metadata": {},
   "outputs": [],
   "source": [
    "import requests"
   ]
  },
  {
   "cell_type": "code",
   "execution_count": 3,
   "metadata": {},
   "outputs": [
    {
     "name": "stdout",
     "output_type": "stream",
     "text": [
      "{'message': 'Hello from Lambda land kubra'}\n"
     ]
    }
   ],
   "source": [
    "url = 'https://g1vvhhnluk.execute-api.us-west-2.amazonaws.com/production/database'\n",
    "payload = {'name': 'kubra'}\n",
    "response = requests.get(url = url, params = payload)\n",
    "print(response.json())"
   ]
  },
  {
   "cell_type": "code",
   "execution_count": 4,
   "metadata": {},
   "outputs": [
    {
     "name": "stdout",
     "output_type": "stream",
     "text": [
      "{'message': 'Hello from Lambda land yest'}\n"
     ]
    }
   ],
   "source": [
    "url = 'https://g1vvhhnluk.execute-api.us-west-2.amazonaws.com/production/database?name=yest'\n",
    "response = requests.get(url = url)\n",
    "print(response.json())"
   ]
  }
 ],
 "metadata": {
  "kernelspec": {
   "display_name": "Python 3",
   "language": "python",
   "name": "python3"
  },
  "language_info": {
   "codemirror_mode": {
    "name": "ipython",
    "version": 3
   },
   "file_extension": ".py",
   "mimetype": "text/x-python",
   "name": "python",
   "nbconvert_exporter": "python",
   "pygments_lexer": "ipython3",
   "version": "3.9.12"
  },
  "orig_nbformat": 4
 },
 "nbformat": 4,
 "nbformat_minor": 2
}
